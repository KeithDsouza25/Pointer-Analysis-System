{
  "nbformat": 4,
  "nbformat_minor": 0,
  "metadata": {
    "colab": {
      "name": "PointerAnalysisTool.ipynb",
      "provenance": [],
      "authorship_tag": "ABX9TyO3jZDgl8IlzL4LX2GZ2ko3",
      "include_colab_link": true
    },
    "kernelspec": {
      "name": "python3",
      "display_name": "Python 3"
    },
    "language_info": {
      "name": "python"
    }
  },
  "cells": [
    {
      "cell_type": "markdown",
      "metadata": {
        "id": "view-in-github",
        "colab_type": "text"
      },
      "source": [
        "<a href=\"https://colab.research.google.com/github/KeithDsouza25/Pointer-Analysis-System/blob/main/PointerAnalysisTool.ipynb\" target=\"_parent\"><img src=\"https://colab.research.google.com/assets/colab-badge.svg\" alt=\"Open In Colab\"/></a>"
      ]
    },
    {
      "cell_type": "markdown",
      "metadata": {
        "id": "VKna4IfivPcf"
      },
      "source": [
        "#Installing Libraries"
      ]
    },
    {
      "cell_type": "code",
      "metadata": {
        "colab": {
          "base_uri": "https://localhost:8080/"
        },
        "id": "p28MuAcxo1KN",
        "outputId": "a8ad5042-4f3e-43c3-ce50-106240338f65"
      },
      "source": [
        "!pip install numpy\n",
        "!pip install matplotlib"
      ],
      "execution_count": 1,
      "outputs": [
        {
          "output_type": "stream",
          "name": "stdout",
          "text": [
            "Requirement already satisfied: numpy in /usr/local/lib/python3.7/dist-packages (1.19.5)\n",
            "Requirement already satisfied: matplotlib in /usr/local/lib/python3.7/dist-packages (3.2.2)\n",
            "Requirement already satisfied: numpy>=1.11 in /usr/local/lib/python3.7/dist-packages (from matplotlib) (1.19.5)\n",
            "Requirement already satisfied: python-dateutil>=2.1 in /usr/local/lib/python3.7/dist-packages (from matplotlib) (2.8.2)\n",
            "Requirement already satisfied: pyparsing!=2.0.4,!=2.1.2,!=2.1.6,>=2.0.1 in /usr/local/lib/python3.7/dist-packages (from matplotlib) (2.4.7)\n",
            "Requirement already satisfied: cycler>=0.10 in /usr/local/lib/python3.7/dist-packages (from matplotlib) (0.10.0)\n",
            "Requirement already satisfied: kiwisolver>=1.0.1 in /usr/local/lib/python3.7/dist-packages (from matplotlib) (1.3.2)\n",
            "Requirement already satisfied: six in /usr/local/lib/python3.7/dist-packages (from cycler>=0.10->matplotlib) (1.15.0)\n"
          ]
        }
      ]
    },
    {
      "cell_type": "markdown",
      "metadata": {
        "id": "eH5RKkDzvRlc"
      },
      "source": [
        "#Importing Packages"
      ]
    },
    {
      "cell_type": "code",
      "metadata": {
        "id": "y_EuPX2FvV2n"
      },
      "source": [
        "import matplotlib.pyplot as plt \n",
        "import numpy as np"
      ],
      "execution_count": 2,
      "outputs": []
    },
    {
      "cell_type": "markdown",
      "metadata": {
        "id": "1k0l4AzrvZZx"
      },
      "source": [
        "# Taking Input\n",
        "\n"
      ]
    },
    {
      "cell_type": "code",
      "metadata": {
        "id": "yKrBaqvivfv_",
        "outputId": "03e5ef7b-e49b-4156-d1b0-bf28e4fec66a",
        "colab": {
          "base_uri": "https://localhost:8080/"
        }
      },
      "source": [
        "name=str(input(\"Enter your name: \"))\n",
        "semesters=int(input(\"Enter the number of semesters: \"))"
      ],
      "execution_count": 3,
      "outputs": [
        {
          "name": "stdout",
          "output_type": "stream",
          "text": [
            "Enter your name: Keith Dsouza\n",
            "Enter the number of semesters: 5\n"
          ]
        }
      ]
    },
    {
      "cell_type": "markdown",
      "metadata": {
        "id": "rOqWxqI8v3MG"
      },
      "source": [
        "#Creating Buffer pointers "
      ]
    },
    {
      "cell_type": "code",
      "metadata": {
        "id": "GGz72l_kvq2d"
      },
      "source": [
        "dummy_buffer=[]\n",
        "pointer_buffer=[]\n",
        "remark_buffer=[]"
      ],
      "execution_count": 4,
      "outputs": []
    },
    {
      "cell_type": "markdown",
      "metadata": {
        "id": "6t9BwGXmwKkD"
      },
      "source": [
        "#Inputting Semester Data\n",
        "##Also Outputting Best and Worst Semester Performance"
      ]
    },
    {
      "cell_type": "code",
      "metadata": {
        "id": "Xf8LDDIUwR3R",
        "outputId": "6a845d0a-f938-4d27-89f5-098ec11545fd",
        "colab": {
          "base_uri": "https://localhost:8080/"
        }
      },
      "source": [
        "sem=1\n",
        "for pointer in range(semesters):\n",
        "    print(\"Enter SGPA of SEM\", sem, \":\" \"\\t\")\n",
        "    sgpa=float(input())\n",
        "    if(sgpa>=7 and sgpa<8):\n",
        "        remark_buffer.append(\"Well Done\")\n",
        "    elif(sgpa>=8 and sgpa<9):\n",
        "        remark_buffer.append(\"Impressive\")\n",
        "    elif(sgpa>=9):\n",
        "        remark_buffer.append(\"Incredible\")\n",
        "    else:\n",
        "        remark_buffer.append(\"Uh Oh!, You've got some work to do\")\n",
        "    pointer_buffer.append(sgpa)\n",
        "    sem+=1\n",
        "\n",
        "avg=sum(pointer_buffer)/semesters\n",
        "\n",
        "for i in range(semesters):\n",
        "    dummy_buffer.append(i+1)\n",
        "        \n",
        "print(\"Dear\", name,)\n",
        "print(\"SEM\", \"\\t\", \"SGPA\")\n",
        "for i in range(semesters):\n",
        "    print(dummy_buffer[i], \"\\t\", pointer_buffer[i], \"\\t\", remark_buffer[i])\n",
        "print(\"Your CGPA is: \", round(avg, 2))\n",
        "b_ind=max(pointer_buffer)\n",
        "w_ind=min(pointer_buffer)\n",
        "b=pointer_buffer.index(b_ind)\n",
        "w=pointer_buffer.index(w_ind)\n",
        "print(\"Your best performance: \",  \"SEM\", b+1, \"--->\", max(pointer_buffer))\n",
        "print(\"Your worst performance: \", \"SEM\", w+1, \"--->\", min(pointer_buffer))\n"
      ],
      "execution_count": 5,
      "outputs": [
        {
          "output_type": "stream",
          "name": "stdout",
          "text": [
            "Enter SGPA of SEM 1 :\t\n",
            "6.56\n",
            "Enter SGPA of SEM 2 :\t\n",
            "7.19\n",
            "Enter SGPA of SEM 3 :\t\n",
            "7.72\n",
            "Enter SGPA of SEM 4 :\t\n",
            "8.76\n",
            "Enter SGPA of SEM 5 :\t\n",
            "9.45\n",
            "Dear Keith Dsouza\n",
            "SEM \t SGPA\n",
            "1 \t 6.56 \t Uh Oh!, You've got some work to do\n",
            "2 \t 7.19 \t Well Done\n",
            "3 \t 7.72 \t Well Done\n",
            "4 \t 8.76 \t Impressive\n",
            "5 \t 9.45 \t Incredible\n",
            "Your CGPA is:  7.94\n",
            "Your best performance:  SEM 5 ---> 9.45\n",
            "Your worst performance:  SEM 1 ---> 6.56\n"
          ]
        }
      ]
    },
    {
      "cell_type": "markdown",
      "metadata": {
        "id": "Rv6pyDNyw8nW"
      },
      "source": [
        "#Converting SGPA to Percentage and Grade based on Mumbai University formula"
      ]
    },
    {
      "cell_type": "code",
      "metadata": {
        "id": "eV1ZPhAxxaBt",
        "outputId": "953d28d2-dfa9-491d-8647-39d7e87a1149",
        "colab": {
          "base_uri": "https://localhost:8080/"
        }
      },
      "source": [
        "print(\"WHICH UNIVERSITY DO YOU BELONG TO? 1.MUMBAI, 2.OTHER\")\n",
        "uni=int(input())\n",
        "if(uni==1):\n",
        "    if(avg<7):\n",
        "        per=round(float((7.1*avg)+12),2)\n",
        "        \n",
        "    else:\n",
        "        per=round(float((7.4*avg)+12),2)\n",
        "else:\n",
        "    per=round(float(9.5*avg),2)\n",
        "    \n",
        "print(\"Dear\",name,\",\", \"Your percentage is: \", per,\"%\")\n",
        "\n",
        "if(per>=70 and per<80):\n",
        "    print(\"YOUR GRADE IS: GRADE A\")\n",
        "    print(\"CLASS: FIRST CLASS\")\n",
        "    \n",
        "elif(per>=80):\n",
        "    print(\"YOUR GRADE IS: GRADE O\")\n",
        "    print(\"CLASS: DISTINCTION AND ABOVE\")\n",
        "    \n",
        "elif(per>=60 and per<70):\n",
        "    if(per>=60 and per<65):\n",
        "        print(\"YOUR GRADE IS: GRADE C\")\n",
        "    elif(per>=65 and per>70):\n",
        "        print(\"YOUR GRADE IS: GRADE B\")\n",
        "    print(\"CLASS: SECOND CLASS\")\n",
        " \n",
        "elif(per>=55 and per<60):\n",
        "    print(\"YOUR GRADE IS: D\")\n",
        "    print(\"CLASS: PASS CLASS\")\n"
      ],
      "execution_count": 6,
      "outputs": [
        {
          "output_type": "stream",
          "name": "stdout",
          "text": [
            "WHICH UNIVERSITY DO YOU BELONG TO? 1.MUMBAI, 2.OTHER\n",
            "1\n",
            "Dear Keith Dsouza , Your percentage is:  70.73 %\n",
            "YOUR GRADE IS: GRADE A\n",
            "CLASS: FIRST CLASS\n"
          ]
        }
      ]
    },
    {
      "cell_type": "markdown",
      "metadata": {
        "id": "ZAtNw7-mxYuA"
      },
      "source": [
        "#Analysis"
      ]
    },
    {
      "cell_type": "code",
      "metadata": {
        "id": "XPxou0qBx5OA",
        "outputId": "cd6f1101-5c12-4798-d814-edd81912bc3e",
        "colab": {
          "base_uri": "https://localhost:8080/",
          "height": 450
        }
      },
      "source": [
        "plt.title('Analysis Graph')\n",
        "plt.xlabel('SEMESTERS')\n",
        "plt.ylabel('POINTER')\n",
        "ax = plt.subplot(111)\n",
        "ax.set_xlim(1, sem-1)\n",
        "ax.set_ylim(4.8,10)\n",
        "dim = np.arange(1, sem)\n",
        "ax.plot(dim, pointer_buffer, linestyle='-', marker=\"o\")\n",
        "\n",
        "print(\"Dear\",name, \"here is the final analysis\" )\n",
        "print(\"SEM 1\",\"Initial\")\n",
        "\n",
        "#COMPARISON\n",
        "pivot=1\n",
        "piv=0\n",
        "for comp in range(len(pointer_buffer)):\n",
        "    if(pivot<semesters):\n",
        "        sem_ind=pointer_buffer.index(pointer_buffer[pivot])\n",
        "        if(pointer_buffer[pivot]>pointer_buffer[piv]):\n",
        "            dif=pointer_buffer[pivot]-pointer_buffer[piv]\n",
        "            print(\"SEM\",sem_ind+1, \"Improvement of \",round(dif,2),\"compared to SEM\",sem_ind)\n",
        "        elif(pointer_buffer[pivot]==pointer_buffer[piv]):\n",
        "            print(\"SEM\",sem_ind+1,\"No difference\",\"compared to SEM\",sem_ind)\n",
        "        else:\n",
        "            diff=pointer_buffer[piv]-pointer_buffer[pivot]\n",
        "            print(\"SEM\",sem_ind+1, \"Poor. Detoriated by \",round(diff,2),\"compared to SEM\",sem_ind )\n",
        "    pivot=pivot+1\n",
        "    piv=piv+1\n"
      ],
      "execution_count": 7,
      "outputs": [
        {
          "output_type": "stream",
          "name": "stdout",
          "text": [
            "Dear Keith Dsouza here is the final analysis\n",
            "SEM 1 Initial\n",
            "SEM 2 Improvement of  0.63 compared to SEM 1\n",
            "SEM 3 Improvement of  0.53 compared to SEM 2\n",
            "SEM 4 Improvement of  1.04 compared to SEM 3\n",
            "SEM 5 Improvement of  0.69 compared to SEM 4\n"
          ]
        },
        {
          "output_type": "stream",
          "name": "stderr",
          "text": [
            "/usr/local/lib/python3.7/dist-packages/ipykernel_launcher.py:4: MatplotlibDeprecationWarning: Adding an axes using the same arguments as a previous axes currently reuses the earlier instance.  In a future version, a new instance will always be created and returned.  Meanwhile, this warning can be suppressed, and the future behavior ensured, by passing a unique label to each axes instance.\n",
            "  after removing the cwd from sys.path.\n"
          ]
        },
        {
          "output_type": "display_data",
          "data": {
            "image/png": "[encoded data removed]",
            "text/plain": [
              "<Figure size 432x288 with 1 Axes>"
            ]
          },
          "metadata": {
            "needs_background": "light"
          }
        }
      ]
    },
    {
      "cell_type": "markdown",
      "metadata": {
        "id": "G14IC8qlySMd"
      },
      "source": [
        "#Checking Possibility of Achieving Given Goal\n"
      ]
    },
    {
      "cell_type": "code",
      "metadata": {
        "id": "pCfnb5tvySxg",
        "outputId": "66720c75-7917-46f1-9572-ca0e5abf460f",
        "colab": {
          "base_uri": "https://localhost:8080/"
        }
      },
      "source": [
        "total_sems=8\n",
        "total_pointer_sum=80\n",
        "total_pointer=10\n",
        "\n",
        "remaining_sems=total_sems-semesters\n",
        "\n",
        "if(remaining_sems==0):\n",
        "    print(\"Dear\",name,\"Your Course has been Completed. Your final pointer is: \",round(avg,2))\n",
        "    exit\n",
        "\n",
        "print(\"Dear\",name)\n",
        "desired_pointer=float(input(\"Enter your desired pointer: \"))\n",
        "\n",
        "desired_score=desired_pointer*total_sems\n",
        "\n",
        "to_score=desired_score-sum(pointer_buffer)\n",
        "\n",
        "actual_score=to_score/remaining_sems\n",
        "\n",
        "max_pointer_sum=remaining_sems*total_pointer\n",
        "max_pointer=(sum(pointer_buffer)+max_pointer_sum)/total_sems\n",
        "\n",
        "\n",
        "if(actual_score>10):\n",
        "    print(\"Not Possible\")\n",
        "    print(\"Maximum you can score is: \",round(max_pointer,2))\n",
        "    \n",
        "else:\n",
        "    print(\"Score Minimum\",round(actual_score,2),\"in each of the remaining semesters. Good Luck\")\n"
      ],
      "execution_count": 8,
      "outputs": [
        {
          "output_type": "stream",
          "name": "stdout",
          "text": [
            "Dear Keith Dsouza\n",
            "Enter your desired pointer: 8.50\n",
            "Score Minimum 9.44 in each of the remaining semesters. Good Luck\n"
          ]
        }
      ]
    }
  ]
}